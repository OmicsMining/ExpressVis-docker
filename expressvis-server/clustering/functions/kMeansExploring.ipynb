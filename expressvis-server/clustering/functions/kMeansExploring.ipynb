{
 "cells": [
  {
   "cell_type": "markdown",
   "metadata": {
    "collapsed": true
   },
   "source": [
    "## 读取数据"
   ]
  },
  {
   "cell_type": "code",
   "execution_count": null,
   "metadata": {},
   "outputs": [],
   "source": [
    "from django.test import TestCase\n",
    "from fgvis.settings import BASE_DIR\n",
    "from .functionsForArray import log2MeanTransform\n",
    "import pandas as pd\n",
    "\n",
    "# read test file\n",
    "fileName = \"\".join([BASE_DIR, \"/static/examples/RNA-seq_tutorial_example.txt\"])\n",
    "dataFrame = pd.read_table(fileName)\n",
    "valuesFrame = dataFrame[['Groupa_1_RPKM', 'Groupa_2_RPKM',\n",
    "                         'Groupb_1_RPKM', 'Groupb_2_RPKM', 'Groupc_1_RPKM', 'Groupc_2_RPKM',\n",
    "                         'Groupd_1_RPKM', 'Groupd_2_RPKM', 'Groupe_1_RPKM', 'Groupe_2_RPKM']]\n",
    "valuesMatrix = valuesFrame.values\n",
    "# transfrom matrix\n",
    "transformedMatrix = log2MeanTransform(valuesMatrix)\n",
    "\n",
    "print(transformedMatrix)"
   ]
  },
  {
   "cell_type": "code",
   "execution_count": null,
   "metadata": {},
   "outputs": [],
   "source": [
    ""
   ]
  }
 ],
 "metadata": {
  "kernelspec": {
   "display_name": "Python 2",
   "language": "python",
   "name": "python2"
  },
  "language_info": {
   "codemirror_mode": {
    "name": "ipython",
    "version": 2.0
   },
   "file_extension": ".py",
   "mimetype": "text/x-python",
   "name": "python",
   "nbconvert_exporter": "python",
   "pygments_lexer": "ipython2",
   "version": "2.7.6"
  }
 },
 "nbformat": 4,
 "nbformat_minor": 0
}